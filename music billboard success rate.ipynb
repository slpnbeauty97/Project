{
 "cells": [
  {
   "cell_type": "code",
   "execution_count": 33,
   "id": "c4a5c224",
   "metadata": {
    "scrolled": true
   },
   "outputs": [
    {
     "name": "stdout",
     "output_type": "stream",
     "text": [
      "   rank            song_name                TITLE                 artist_name  \\\n",
      "0     1              The Box              THE BOX                 Roddy Ricch   \n",
      "1     2         Life Is Good         LIFE IS GOOD      Future Featuring Drake   \n",
      "2     3              Circles              CIRCLES                 Post Malone   \n",
      "3     4             Memories             MEMORIES                    Maroon 5   \n",
      "4     5    Someone You Loved    SOMEONE YOU LOVED               Lewis Capaldi   \n",
      "5     6         10,000 Hours         10,000 HOURS  Dan + Shay & Justin Bieber   \n",
      "6     7         Dance Monkey         DANCE MONKEY                 Tones And I   \n",
      "7     8              Roxanne              ROXANNE              Arizona Zervas   \n",
      "8     9      Don't Start Now      DON'T START NOW                    Dua Lipa   \n",
      "9    10  everything i wanted  EVERYTHING I WANTED               Billie Eilish   \n",
      "\n",
      "  default last_week  peak_rank  week_chart  \n",
      "0       -         1          1           8  \n",
      "1       -         2          2           3  \n",
      "2       1         4          1          22  \n",
      "3       1         5          2          19  \n",
      "4       3         8          1          38  \n",
      "5       -         6          4          17  \n",
      "6       -         7          7          17  \n",
      "7       1         9          4          13  \n",
      "8       6        15          9          13  \n",
      "9      13        23          8          12  \n"
     ]
    }
   ],
   "source": [
    "import pandas as pd\n",
    "\n",
    "\n",
    "\n",
    "\n",
    "\n",
    "import numpy as np\n",
    "\n",
    "\n",
    "\n",
    "\n",
    "\n",
    "import matplotlib.pyplot as plt\n",
    "\n",
    "\n",
    "\n",
    "\n",
    "\n",
    "import plotly.express as px\n",
    "\n",
    "\n",
    "\n",
    "\n",
    "\n",
    "pd.set_option('display.max_columns',20)\n",
    "\n",
    "\n",
    "path=(\"C:/Users/USER/Downloads/billboard-2020-02-04.csv\")\n",
    "\n",
    "\n",
    "\n",
    "\n",
    "dataframe=pd.read_csv(path)\n",
    "\n",
    "\n",
    "print(dataframe.head(10))\n",
    "\n",
    "\n"
   ]
  },
  {
   "cell_type": "code",
   "execution_count": null,
   "id": "76933965",
   "metadata": {},
   "outputs": [],
   "source": []
  },
  {
   "cell_type": "code",
   "execution_count": null,
   "id": "f07f530e",
   "metadata": {},
   "outputs": [],
   "source": []
  },
  {
   "cell_type": "code",
   "execution_count": null,
   "id": "c1acc01b",
   "metadata": {},
   "outputs": [],
   "source": []
  }
 ],
 "metadata": {
  "kernelspec": {
   "display_name": "Python 3 (ipykernel)",
   "language": "python",
   "name": "python3"
  },
  "language_info": {
   "codemirror_mode": {
    "name": "ipython",
    "version": 3
   },
   "file_extension": ".py",
   "mimetype": "text/x-python",
   "name": "python",
   "nbconvert_exporter": "python",
   "pygments_lexer": "ipython3",
   "version": "3.11.3"
  }
 },
 "nbformat": 4,
 "nbformat_minor": 5
}
